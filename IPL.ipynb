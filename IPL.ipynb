{
 "cells": [
  {
   "cell_type": "code",
   "execution_count": 0,
   "metadata": {
    "application/vnd.databricks.v1+cell": {
     "cellMetadata": {
      "byteLimit": 2048000,
      "rowLimit": 10000
     },
     "inputWidgets": {},
     "nuid": "1ce2c02a-3aca-4f82-a7bf-7c50b53614dc",
     "showTitle": false,
     "tableResultSettingsMap": {},
     "title": ""
    }
   },
   "outputs": [],
   "source": [
    "# Use Unity Catalog path\n",
    "ball_df = spark.read.csv(\"/Volumes/ipl/default/ipl/Ball_By_Ball.csv\", header=True, inferSchema=True)\n",
    "match_df = spark.read.csv(\"/Volumes/ipl/default/ipl/Match.csv\", header=True, inferSchema=True)\n",
    "player_df = spark.read.csv(\"/Volumes/ipl/default/ipl/Player.csv\", header=True, inferSchema=True)\n",
    "player_match_df = spark.read.csv(\"/Volumes/ipl/default/ipl/Player_match.csv\", header=True, inferSchema=True)\n",
    "team_df = spark.read.csv(\"/Volumes/ipl/default/ipl/Team.csv\", header=True, inferSchema=True)\n",
    "\n",
    "display(ball_df)\n",
    "display(match_df)\n",
    "display(player_df)\n",
    "\n"
   ]
  },
  {
   "cell_type": "code",
   "execution_count": 0,
   "metadata": {
    "application/vnd.databricks.v1+cell": {
     "cellMetadata": {
      "byteLimit": 2048000,
      "rowLimit": 10000
     },
     "inputWidgets": {},
     "nuid": "7ec3c257-b599-4241-bf07-059c575a4a3e",
     "showTitle": false,
     "tableResultSettingsMap": {},
     "title": ""
    }
   },
   "outputs": [],
   "source": [
    "# Example: Clean Match data\n",
    "match_df = match_df.dropna().dropDuplicates()\n",
    "\n",
    "print(\"Number of matches:\", match_df.count())\n",
    "print(\"Schema of Ball Data:\")\n",
    "ball_df.printSchema()\n"
   ]
  },
  {
   "cell_type": "code",
   "execution_count": 0,
   "metadata": {
    "application/vnd.databricks.v1+cell": {
     "cellMetadata": {
      "byteLimit": 2048000,
      "rowLimit": 10000
     },
     "inputWidgets": {},
     "nuid": "f2b14dce-276b-4ea3-b523-635ab4eef8ed",
     "showTitle": false,
     "tableResultSettingsMap": {},
     "title": ""
    }
   },
   "outputs": [],
   "source": [
    "# Clean column names\n",
    "ball_df = ball_df.toDF(*[c.strip().lower() for c in ball_df.columns])\n",
    "match_df = match_df.toDF(*[c.strip().lower() for c in match_df.columns])\n",
    "player_df = player_df.toDF(*[c.strip().lower() for c in player_df.columns])\n",
    "\n",
    "# Join Ball data with Match info\n",
    "ball_match_df = ball_df.join(match_df, ball_df[\"match_id\"] == match_df[\"match_id\"], \"inner\")\n",
    "\n",
    "# Join Player info (ball_df.striker → player_df.player_id)\n",
    "ball_match_player_df = ball_match_df.join(\n",
    "    player_df,\n",
    "    ball_match_df[\"striker\"] == player_df[\"player_id\"],\n",
    "    \"left\"\n",
    ")\n",
    "\n",
    "display(ball_match_player_df)\n",
    "\n"
   ]
  },
  {
   "cell_type": "code",
   "execution_count": 0,
   "metadata": {
    "application/vnd.databricks.v1+cell": {
     "cellMetadata": {
      "byteLimit": 2048000,
      "rowLimit": 10000
     },
     "inputWidgets": {},
     "nuid": "5feb8ac0-246a-4658-a6df-aedd495a3b41",
     "showTitle": false,
     "tableResultSettingsMap": {},
     "title": ""
    }
   },
   "outputs": [],
   "source": [
    "from pyspark.sql.functions import sum as _sum\n",
    "\n",
    "top_batsmen = (\n",
    "    ball_match_player_df.groupBy(\"player_name\")\n",
    "    .agg(_sum(\"runs_scored\").alias(\"total_runs\"))\n",
    "    .orderBy(\"total_runs\", ascending=False)\n",
    ")\n",
    "\n",
    "display(top_batsmen.limit(10))\n",
    "\n"
   ]
  },
  {
   "cell_type": "code",
   "execution_count": 0,
   "metadata": {
    "application/vnd.databricks.v1+cell": {
     "cellMetadata": {
      "byteLimit": 2048000,
      "rowLimit": 10000
     },
     "inputWidgets": {},
     "nuid": "bf17ca08-c3c5-4348-a30c-ee4d805daaf0",
     "showTitle": false,
     "tableResultSettingsMap": {},
     "title": ""
    }
   },
   "outputs": [],
   "source": [
    "from pyspark.sql.functions import col\n",
    "\n",
    "# Filter out balls where out_type is not null (i.e., a wicket fell)\n",
    "wickets = ball_match_player_df.filter(col(\"out_type\").isNotNull())\n",
    "\n",
    "# Count wickets per bowler (column is usually 'bowler')\n",
    "top_bowlers = (\n",
    "    wickets.groupBy(\"bowler\")\n",
    "    .count()\n",
    "    .withColumnRenamed(\"count\", \"wickets\")\n",
    "    .orderBy(\"wickets\", ascending=False)\n",
    ")\n",
    "\n",
    "display(top_bowlers.limit(10))\n"
   ]
  },
  {
   "cell_type": "code",
   "execution_count": 0,
   "metadata": {
    "application/vnd.databricks.v1+cell": {
     "cellMetadata": {
      "byteLimit": 2048000,
      "rowLimit": 10000
     },
     "inputWidgets": {},
     "nuid": "b043c7aa-db26-4548-abf3-d496265978e6",
     "showTitle": false,
     "tableResultSettingsMap": {},
     "title": ""
    }
   },
   "outputs": [],
   "source": [
    "team_wins = match_df.groupBy(\"Match_Winner\") \\\n",
    "    .count() \\\n",
    "    .withColumnRenamed(\"count\", \"Total_Wins\") \\\n",
    "    .orderBy(\"Total_Wins\", ascending=False)\n",
    "\n",
    "display(team_wins)\n"
   ]
  },
  {
   "cell_type": "code",
   "execution_count": 0,
   "metadata": {
    "application/vnd.databricks.v1+cell": {
     "cellMetadata": {
      "byteLimit": 2048000,
      "rowLimit": 10000
     },
     "inputWidgets": {},
     "nuid": "af581f70-3cfb-47c9-ae54-dc6327dd7cdc",
     "showTitle": false,
     "tableResultSettingsMap": {},
     "title": ""
    }
   },
   "outputs": [],
   "source": [
    "mom = (\n",
    "    match_df.groupBy(\"manofmach\")\n",
    "    .count()\n",
    "    .withColumnRenamed(\"count\", \"awards\")\n",
    "    .orderBy(\"awards\", ascending=False)\n",
    ")\n",
    "\n",
    "display(mom.limit(10))\n",
    "\n"
   ]
  },
  {
   "cell_type": "code",
   "execution_count": 0,
   "metadata": {
    "application/vnd.databricks.v1+cell": {
     "cellMetadata": {
      "byteLimit": 2048000,
      "rowLimit": 10000
     },
     "inputWidgets": {},
     "nuid": "93844885-6b07-415b-818b-14155f5bce5e",
     "showTitle": false,
     "tableResultSettingsMap": {},
     "title": ""
    }
   },
   "outputs": [],
   "source": [
    "from pyspark.sql.functions import col\n",
    "\n",
    "toss = (\n",
    "    match_df.groupBy(\"toss_name\", \"match_winner\")\n",
    "    .count()\n",
    "    .orderBy(\"count\", ascending=False)\n",
    ")\n",
    "\n",
    "display(toss)\n"
   ]
  },
  {
   "cell_type": "code",
   "execution_count": 0,
   "metadata": {
    "application/vnd.databricks.v1+cell": {
     "cellMetadata": {
      "byteLimit": 2048000,
      "rowLimit": 10000
     },
     "inputWidgets": {},
     "nuid": "0d7d2ee1-2c8d-4935-9a29-8fb1c9df217e",
     "showTitle": false,
     "tableResultSettingsMap": {},
     "title": ""
    }
   },
   "outputs": [],
   "source": [
    "import matplotlib.pyplot as plt\n",
    "\n",
    "# Convert to Pandas (top 10 for plotting)\n",
    "top10_pd = top_batsmen.limit(10).toPandas()\n",
    "\n",
    "plt.figure(figsize=(12,6))\n",
    "plt.bar(top10_pd['player_name'], top10_pd['total_runs'], color='skyblue')\n",
    "plt.xlabel('Player Name')\n",
    "plt.ylabel('Total Runs')\n",
    "plt.title('Top 10 Batsmen by Total Runs')\n",
    "plt.xticks(rotation=45)\n",
    "plt.show()\n"
   ]
  },
  {
   "cell_type": "code",
   "execution_count": 0,
   "metadata": {
    "application/vnd.databricks.v1+cell": {
     "cellMetadata": {
      "byteLimit": 2048000,
      "rowLimit": 10000
     },
     "inputWidgets": {},
     "nuid": "b013e43d-002b-44db-ade1-9aff3ca4edef",
     "showTitle": false,
     "tableResultSettingsMap": {},
     "title": ""
    }
   },
   "outputs": [],
   "source": [
    "top5_pd = top_batsmen.limit(5).toPandas()\n",
    "\n",
    "plt.figure(figsize=(8,8))\n",
    "plt.pie(top5_pd['total_runs'], labels=top5_pd['player_name'], autopct='%1.1f%%', startangle=140)\n",
    "plt.title('Top 5 Batsmen Contribution')\n",
    "plt.show()\n"
   ]
  }
 ],
 "metadata": {
  "application/vnd.databricks.v1+notebook": {
   "computePreferences": null,
   "dashboards": [
    {
     "elements": [],
     "globalVars": {},
     "guid": "",
     "layoutOption": {
      "grid": true,
      "stack": true
     },
     "nuid": "466ab611-930c-4a10-b620-d451e4c4fac7",
     "origId": 7655163262586588,
     "title": "Untitled",
     "version": "DashboardViewV1",
     "width": 1024
    }
   ],
   "environmentMetadata": {
    "base_environment": "",
    "environment_version": "3"
   },
   "inputWidgetPreferences": null,
   "language": "python",
   "notebookMetadata": {
    "pythonIndentUnit": 4
   },
   "notebookName": "IPL",
   "widgets": {}
  },
  "language_info": {
   "name": "python"
  }
 },
 "nbformat": 4,
 "nbformat_minor": 0
}
